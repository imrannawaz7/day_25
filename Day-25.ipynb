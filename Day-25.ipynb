{
 "cells": [
  {
   "cell_type": "code",
   "execution_count": 3,
   "metadata": {},
   "outputs": [
    {
     "data": {
      "text/plain": [
       "[7, 14, 28, 35, 49]"
      ]
     },
     "execution_count": 3,
     "metadata": {},
     "output_type": "execute_result"
    }
   ],
   "source": [
    "# 1.Write a program to Python find the values which is not divisible 3 but is should be a multiple of 7. Make sure to use only higher order function.\n",
    "\n",
    "x = [i for i in range(1,50) if(i%3!=0) and(i%7==0)]\n",
    "x"
   ]
  },
  {
   "cell_type": "code",
   "execution_count": 9,
   "metadata": {},
   "outputs": [
    {
     "name": "stdout",
     "output_type": "stream",
     "text": [
      "[1, 4, 9, 16]\n",
      "[1, 4, 9, 16]\n"
     ]
    }
   ],
   "source": [
    "# 2.Write a program in Python to multiple the element of list by itself using a traditional function and pass the function to map to complete the operation.\n",
    "def multiple(n):\n",
    "    return n * n\n",
    "\n",
    "x = [1,2,3,4]\n",
    "result = map(multiple, x)\n",
    "print(list(result))\n",
    "\n",
    "# using Lambda\n",
    "lambdaresult = map(lambda n: n * n, x)\n",
    "print(list(lambdaresult))"
   ]
  },
  {
   "cell_type": "code",
   "execution_count": 14,
   "metadata": {},
   "outputs": [
    {
     "name": "stdout",
     "output_type": "stream",
     "text": [
      "BootCampTraing_Python_ListComprehension\n",
      "['B', 'C', 'T', 'P', 'L', 'C']\n"
     ]
    }
   ],
   "source": [
    "# 3.Write a program to Python find out the character in a string which is uppercase using list comprehension.\n",
    "test = 'BootCampTraing_Python_ListComprehension'\n",
    "result = [i for i in test if i.isupper()]\n",
    "print(test)\n",
    "print(str(result))\n"
   ]
  },
  {
   "cell_type": "code",
   "execution_count": 20,
   "metadata": {},
   "outputs": [
    {
     "name": "stdout",
     "output_type": "stream",
     "text": [
      "{'Smith': 'Compter Science', 'Jaya': 'Networking', 'Rayyan': 'Operating System'}\n"
     ]
    }
   ],
   "source": [
    "# 4.Write a program to construct a dictionary from the two lists containing the names of students and their corresponding subjects. The dictionary should maps the students with their respective subjects. Let’s see how to do this using for loops and dictionary comprehension. HINT-Use Zip function also\n",
    "# ● Student = [&#39;Smit&#39;, &#39;Jaya&#39;, &#39;Rayyan&#39;]\n",
    "# ● capital = [&#39;CSE&#39;, &#39;Networking&#39;, &#39;Operating System&#39;]\n",
    "student = ['Smith', 'Jaya', 'Rayyan']\n",
    "subject = ['Compter Science', 'Networking', 'Operating System']\n",
    "result = dict(zip(student, subject))\n",
    "print(result)"
   ]
  },
  {
   "cell_type": "code",
   "execution_count": 26,
   "metadata": {},
   "outputs": [
    {
     "name": "stdout",
     "output_type": "stream",
     "text": [
      "g\n",
      "n\n",
      "i\n",
      "n\n",
      "i\n",
      "a\n",
      "r\n",
      "T\n",
      " \n",
      "d\n",
      "d\n",
      "a\n",
      "t\n",
      "l\n",
      "u\n",
      "s\n",
      "n\n",
      "o\n",
      "C\n"
     ]
    }
   ],
   "source": [
    "# Write a program in Python using generators to reverse the string. Input String = “Consultadd Training”\n",
    "def rev_str(my_str):\n",
    "    length = len(my_str)\n",
    "    for i in range(length - 1, -1, -1):\n",
    "        yield my_str[i]\n",
    "for i in rev_str(\"Consultadd Training\"):\n",
    "    print(i)"
   ]
  },
  {
   "cell_type": "code",
   "execution_count": 34,
   "metadata": {},
   "outputs": [
    {
     "name": "stdout",
     "output_type": "stream",
     "text": [
      "This is inside the function !!\n"
     ]
    }
   ],
   "source": [
    "# 7. \tWrite any example on decorators.\n"
   ]
  },
  {
   "cell_type": "code",
   "execution_count": null,
   "metadata": {},
   "outputs": [],
   "source": [
    "# Write a program to handle an error if the user entered the number more than\n",
    "# four digits it should return “Please length is too short/long !!! Please provide only four\n",
    "# digits”\n",
    "while True:\n",
    "    answer = input('Please provide a number(4 digits only): ')\n",
    "    if len(answer) != 4:\n",
    "        print(\"Please length is too short/long !!! Please provide only four digits\")\n",
    "    else:\n",
    "        break"
   ]
  },
  {
   "cell_type": "code",
   "execution_count": 1,
   "metadata": {},
   "outputs": [
    {
     "name": "stdout",
     "output_type": "stream",
     "text": [
      "Enter username: consultadd\n",
      "Enter password: sdsd\n",
      "Access denied. Try again.\n",
      "Enter username: consultadd\n",
      "Enter password: amit123\n",
      "Access granted\n"
     ]
    }
   ],
   "source": [
    "# 9.Create a login page backend to ask user to enter the UserEmail and password.\n",
    "# Make sure to ask Re-Type Password and if the password is incorrect give chance to\n",
    "# enter it again but it should not be more than 3 times.\n",
    "\n",
    "count=0\n",
    "while count < 3:\n",
    "    username = input('Enter username: ')\n",
    "    password = input('Enter password: ')\n",
    "    if password=='amit123' and username=='consultadd':\n",
    "        print('Access granted')\n",
    "        break\n",
    "    else:\n",
    "        print('Access denied. Try again.')\n",
    "        count += 1"
   ]
  },
  {
   "cell_type": "code",
   "execution_count": null,
   "metadata": {},
   "outputs": [],
   "source": []
  },
  {
   "cell_type": "code",
   "execution_count": null,
   "metadata": {},
   "outputs": [],
   "source": []
  }
 ],
 "metadata": {
  "kernelspec": {
   "display_name": "Python 3",
   "language": "python",
   "name": "python3"
  },
  "language_info": {
   "codemirror_mode": {
    "name": "ipython",
    "version": 3
   },
   "file_extension": ".py",
   "mimetype": "text/x-python",
   "name": "python",
   "nbconvert_exporter": "python",
   "pygments_lexer": "ipython3",
   "version": "3.8.3"
  }
 },
 "nbformat": 4,
 "nbformat_minor": 4
}
