{
 "cells": [
  {
   "cell_type": "code",
   "execution_count": 4,
   "metadata": {},
   "outputs": [
    {
     "name": "stdout",
     "output_type": "stream",
     "text": [
      "Enter 3 valuse in a comma separated sequence: 10,20,30\n",
      "[6, 8, 10]\n"
     ]
    }
   ],
   "source": [
    "# 1.\tWrite a program that calculates and prints the value according to the given formula:\n",
    "# Q= Square root of [(2*C*D)/H]\n",
    "# Following are the fixed values of C and H:\n",
    "# C is 50. H is 30.\n",
    "# D is the variable whose values should be input to your program in a comma-separated sequence.\n",
    "import math\n",
    "C = 50\n",
    "H = 30\n",
    "input_num = input('Enter 3 valuse in a comma separated sequence: ')\n",
    "input_num = input_num.split(',')\n",
    "result = []\n",
    "\n",
    "for D in input_num:\n",
    "    Q = round(math.sqrt(2 * 50 * int(D) / 30))\n",
    "    result.append(Q)\n",
    "\n",
    "print(result)"
   ]
  },
  {
   "cell_type": "code",
   "execution_count": 8,
   "metadata": {},
   "outputs": [
    {
     "name": "stdout",
     "output_type": "stream",
     "text": [
      "16\n"
     ]
    }
   ],
   "source": [
    "# 2.Define a class named Shape and its subclass Square. The Square class has an init function which takes a length as argument. \n",
    "# Both classes have an area function which can print the area of the shape where Shape’s area is 0 by default.\n",
    "        \n",
    "        \n",
    "class Shape(object):\n",
    "    def area(self):\n",
    "        return 0\n",
    "\n",
    "class Square(Shape):\n",
    "    def __init__(self, l):\n",
    "        Shape.__init__(self)\n",
    "        self.length = l\n",
    "\n",
    "    def area(self):\n",
    "        return self.length*self.length\n",
    "\n",
    "aSquare = Square(4)\n",
    "print (aSquare.area())\n",
    "\n",
    "        "
   ]
  },
  {
   "cell_type": "code",
   "execution_count": 18,
   "metadata": {},
   "outputs": [
    {
     "name": "stdout",
     "output_type": "stream",
     "text": [
      "-10 2 8\n",
      "-7 -3 10\n"
     ]
    }
   ],
   "source": [
    "# 3. Create a class to find the three elements that sum to zero from a set of n real numbers.\n",
    "# Input array: [-25,-10,-7,-3,2,4,8,10]\n",
    "# Output: [[-10,2,8],[-7,-3,10]]\n",
    "x = [-25,-10,-7,-3,2,4,8,10]\n",
    "class three_elements:\n",
    "    def three_sum(self,x):\n",
    "        for i in range(len(x)-2):\n",
    "            for j in range(i+1,len(x)-1):\n",
    "                for k in range(j+1,len(x)):\n",
    "                    if x[i]+x[j]+x[k]==0:\n",
    "                        print(x[i],x[j],x[k]))\n",
    "\n",
    "a=three_elements()\n",
    "a.three_sum(x)\n",
    "                        \n",
    "    "
   ]
  },
  {
   "cell_type": "code",
   "execution_count": 29,
   "metadata": {},
   "outputs": [
    {
     "name": "stdout",
     "output_type": "stream",
     "text": [
      "30\n"
     ]
    }
   ],
   "source": [
    "4# What is the output of the following code? Explain your answer as well.\n",
    "class Test:\n",
    "    def __init__(self):\n",
    "        self.x = 0\n",
    "class Derived_Test(Test):\n",
    "    def __init__(self):\n",
    "        self.y = 1\n",
    "def main():\n",
    "    b = Derived_Test()\n",
    "    print(b.x,b.y)\n",
    "    main()\n",
    " \n",
    "class A:\n",
    "    def __init__(self, x= 1):\n",
    "        self.x = x\n",
    "class der(A):\n",
    "    def __init__(self,y = 2):\n",
    "        super().__init__()\n",
    "        self.y = y\n",
    "def main():\n",
    "    obj = der()\n",
    "    print(obj.x, obj.y)\n",
    "    main()\n",
    " \n",
    "class A:\n",
    "    def __init__(self,x):\n",
    "        self.x = x\n",
    "    def count(self,x):\n",
    "        self.x = self.x+1\n",
    "class B(A):\n",
    "    def __init__(self, y=0):\n",
    "        A.__init__(self, 3)\n",
    "        self.y = y\n",
    "    def count(self):\n",
    "        self.y += 1     \n",
    "def main():\n",
    "    obj = B()\n",
    "    obj.count()\n",
    "    print(obj.x, obj.y)\n",
    "    main()\n",
    " \n",
    " \n",
    " \n",
    "class A:\n",
    "    def __init__(self):\n",
    "        self.multiply(15)\n",
    "        print(self.i)\n",
    " \n",
    "    def multiply(self, i):\n",
    "        self.i = 4 * i;\n",
    "class B(A):\n",
    "    def __init__(self):\n",
    "        super().__init__()\n",
    " \n",
    "    def multiply(self, i):\n",
    "        self.i = 2 * i;\n",
    "obj = B()\n"
   ]
  },
  {
   "cell_type": "code",
   "execution_count": 38,
   "metadata": {},
   "outputs": [
    {
     "name": "stdout",
     "output_type": "stream",
     "text": [
      "Corey.Schafer@company.com\n",
      "Test.User@company.com\n",
      "Corey Schafer\n"
     ]
    }
   ],
   "source": [
    "class Employee:\n",
    "    def __init__(self, first, last, pay):\n",
    "        self.first = first\n",
    "        self.last = last\n",
    "        self.pay = pay\n",
    "        self.email = first + \".\" + last + '@company.com'\n",
    "    \n",
    "    def fullname(self):\n",
    "        return '{} {}'.format(self.first, self.last)\n",
    "\n",
    "emp_1 = Employee('Corey', 'Schafer',50000)\n",
    "emp_2 = Employee('Test', 'User', 60000)\n",
    "\n",
    "print(emp_1.email)\n",
    "print(emp_2.email)\n",
    "\n",
    "print(emp_1.fullname())\n",
    "\n",
    "\n"
   ]
  },
  {
   "cell_type": "code",
   "execution_count": 46,
   "metadata": {},
   "outputs": [
    {
     "name": "stdout",
     "output_type": "stream",
     "text": [
      "Corey.Schafer@company.com\n",
      "Test.User@company.com\n",
      "Test User\n"
     ]
    }
   ],
   "source": [
    "class Employee:\n",
    "    def __init__(self, first, last, pay):\n",
    "        self.first = first\n",
    "        self.last = last\n",
    "        self.pay = pay\n",
    "        self.email = first + \".\" + last + '@company.com'\n",
    "    \n",
    "    def fullname(self):\n",
    "        print(self.first + ' ' + self.last)\n",
    "\n",
    "emp_1 = Employee('Corey', 'Schafer',50000)\n",
    "emp_2 = Employee('Test', 'User', 60000)\n",
    "\n",
    "print(emp_1.email)\n",
    "print(emp_2.email)\n",
    "\n",
    "emp_2.fullname()\n",
    "\n",
    "\n"
   ]
  },
  {
   "cell_type": "code",
   "execution_count": 56,
   "metadata": {},
   "outputs": [
    {
     "name": "stdout",
     "output_type": "stream",
     "text": [
      "Time is 4.0 hours and 10 minutes.\n",
      "250.0\n"
     ]
    }
   ],
   "source": [
    "# 5.\tCreate a Time class and initialize it with hours and minutes.\n",
    "# Make a method addTime which should take two time object and add them. \n",
    "# E.g.- (2 hour and 50 min)+(1 hr and 20 min) is (4 hr and 10 min)\n",
    "# Make a method displayTime which should print the time.\n",
    "# Make a method DisplayMinute which should display the total minutes in the Time. E.g.- (1 hr 2 min) should display 62 minute.\n",
    "\n",
    "class Time():\n",
    "\n",
    "  def __init__(self, hours, mins):\n",
    "    self.hours = hours\n",
    "    self.mins = mins\n",
    "\n",
    "  def addTime(t1, t2):\n",
    "    t3 = Time(0,0)\n",
    "    if t1.mins+t2.mins > 60:\n",
    "      t3.hours = round(((t1.mins+t2.mins)/60),0)\n",
    "    t3.hours = t3.hours+t1.hours+t2.hours\n",
    "    t3.mins = (t1.mins+t2.mins)%60\n",
    "    return t3\n",
    "\n",
    "  def displayTime(self):\n",
    "    print (\"Time is\",self.hours,\"hours and\",self.mins,\"minutes.\")\n",
    "\n",
    "  def displayMinute(self):\n",
    "    print ((self.hours*60)+self.mins)\n",
    "\n",
    "a = Time(2,50)\n",
    "b = Time(1,20)\n",
    "c = Time.addTime(a,b)\n",
    "c.displayTime()\n",
    "c.displayMinute()\n"
   ]
  },
  {
   "cell_type": "code",
   "execution_count": null,
   "metadata": {},
   "outputs": [
    {
     "name": "stdout",
     "output_type": "stream",
     "text": [
      "4\n",
      "-1\n",
      "Age is not valid, setting age to 0\n",
      "You are young\n",
      "You are young\n",
      "\n",
      "10\n",
      "You are young\n",
      "You are old\n",
      "\n",
      "21\n",
      "You are old\n",
      "You are old\n",
      "\n"
     ]
    }
   ],
   "source": [
    "# 6.Write a Person class with an instance variable, , and a constructor that takes an integer, , as a parameter. \n",
    "# The constructor must assign to after confirming the argument passed as  is not negative; if a negative argument is passed as,\n",
    "# the constructor should set to and print Age is not valid, setting age to 0.. In addition,\n",
    "# you must write the following instance methods:\n",
    "# yearPasses() should increase the  instance variable by .\n",
    "# amIOld()  should perform the following conditional actions:\n",
    "# If , print You are young..\n",
    "# If  and , print You are a teenager..\n",
    "# Otherwise, print You are old..\t\n",
    "# Sample Input:\n",
    "# 4\n",
    "# -1\n",
    "# 10\n",
    "# 16\n",
    "# 18\n",
    "# Sample Output:\n",
    "# Age is not valid, setting age to 0.\n",
    "# You are young.\n",
    "# You are young.\n",
    " \n",
    "# You are young.\n",
    "# You are a teenager.\n",
    " \n",
    "# You are a teenager.\n",
    "# You are old.\n",
    " \n",
    "# You are old.\n",
    "# You are old.\n",
    "\n",
    "class Person():\n",
    "    def __init__(self, initialAge):\n",
    "        self.age = initialAge\n",
    "        if self.age <= 0:\n",
    "            print('Age is not valid, setting age to 0')\n",
    "        \n",
    "    def amIOld(self):\n",
    "        if self.age < 13:\n",
    "            print('You are young')\n",
    "        elif self.age > 13 and self.age < 19:\n",
    "            print('Your are a teenager')\n",
    "        else:\n",
    "            print('You are old')\n",
    "    def yearPasses(self):\n",
    "        self.age += 1\n",
    "\n",
    "t = int(input())\n",
    "for i in range(0, t):\n",
    "    age = int(input())         \n",
    "    p = Person(age)  \n",
    "    p.amIOld()\n",
    "    for j in range(0, 3):\n",
    "        p.yearPasses()       \n",
    "    p.amIOld()\n",
    "    print(\"\")"
   ]
  },
  {
   "cell_type": "code",
   "execution_count": null,
   "metadata": {},
   "outputs": [],
   "source": []
  }
 ],
 "metadata": {
  "kernelspec": {
   "display_name": "Python 3",
   "language": "python",
   "name": "python3"
  },
  "language_info": {
   "codemirror_mode": {
    "name": "ipython",
    "version": 3
   },
   "file_extension": ".py",
   "mimetype": "text/x-python",
   "name": "python",
   "nbconvert_exporter": "python",
   "pygments_lexer": "ipython3",
   "version": "3.8.3"
  }
 },
 "nbformat": 4,
 "nbformat_minor": 4
}
